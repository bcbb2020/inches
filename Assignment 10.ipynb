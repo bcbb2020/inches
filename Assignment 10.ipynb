{
 "cells": [
  {
   "cell_type": "markdown",
   "id": "814e7d91",
   "metadata": {},
   "source": [
    "# This is assignment 10 Christopher Fusselman"
   ]
  },
  {
   "cell_type": "markdown",
   "id": "97d45622",
   "metadata": {},
   "source": [
    "# Requirement 3"
   ]
  },
  {
   "cell_type": "code",
   "execution_count": 9,
   "id": "a7d7cc35",
   "metadata": {},
   "outputs": [
    {
     "data": {
      "text/plain": [
       "array([[3, 2, 1, 1, 4, 6, 5, 3, 6, 1, 6, 5, 8, 4, 3, 9, 7, 9, 4, 3]])"
      ]
     },
     "execution_count": 9,
     "metadata": {},
     "output_type": "execute_result"
    }
   ],
   "source": [
    "#Create a one-dimensional NumPy array named one_d_array of 20 random\n",
    "#numbers with values between 1 – 10. Demonstrate the following\n",
    "#comparison operators as universal functions:\n",
    "#• <, >, <=, >=, !=, and ==\n",
    "\n",
    "#for arrays for a random number within certain range, \n",
    "#syntax: np.array.randint(min,max,(dimensions))\n",
    "\n",
    "import numpy as np\n",
    "import array\n",
    "one_d_array=np.random.randint(0, 10, (1, 20))\n",
    "one_d_array\n",
    "x=5\n",
    "\n",
    "#np.random.randit(0, 10, (1, 20))\n"
   ]
  },
  {
   "cell_type": "code",
   "execution_count": 19,
   "id": "7598444a",
   "metadata": {},
   "outputs": [
    {
     "data": {
      "text/plain": [
       "array([[False, False, False, False, False,  True, False, False,  True,\n",
       "        False,  True, False,  True, False, False,  True,  True,  True,\n",
       "        False, False]])"
      ]
     },
     "execution_count": 19,
     "metadata": {},
     "output_type": "execute_result"
    }
   ],
   "source": [
    "np.less(x,one_d_array)"
   ]
  },
  {
   "cell_type": "code",
   "execution_count": 21,
   "id": "3b94a50b",
   "metadata": {},
   "outputs": [
    {
     "data": {
      "text/plain": [
       "array([[ True,  True,  True,  True,  True, False, False,  True, False,\n",
       "         True, False, False, False,  True,  True, False, False, False,\n",
       "         True,  True]])"
      ]
     },
     "execution_count": 21,
     "metadata": {},
     "output_type": "execute_result"
    }
   ],
   "source": [
    "np.greater(x,one_d_array)\n"
   ]
  },
  {
   "cell_type": "code",
   "execution_count": 22,
   "id": "cfe8d0fa",
   "metadata": {},
   "outputs": [
    {
     "data": {
      "text/plain": [
       "array([[False, False, False, False, False,  True,  True, False,  True,\n",
       "        False,  True,  True,  True, False, False,  True,  True,  True,\n",
       "        False, False]])"
      ]
     },
     "execution_count": 22,
     "metadata": {},
     "output_type": "execute_result"
    }
   ],
   "source": [
    "np.less_equal(x,one_d_array)\n"
   ]
  },
  {
   "cell_type": "code",
   "execution_count": 23,
   "id": "a954c9c6",
   "metadata": {},
   "outputs": [
    {
     "data": {
      "text/plain": [
       "array([[ True,  True,  True,  True,  True, False,  True,  True, False,\n",
       "         True, False,  True, False,  True,  True, False, False, False,\n",
       "         True,  True]])"
      ]
     },
     "execution_count": 23,
     "metadata": {},
     "output_type": "execute_result"
    }
   ],
   "source": [
    "np.greater_equal(x,one_d_array)\n",
    "\n",
    "\n"
   ]
  },
  {
   "cell_type": "code",
   "execution_count": 24,
   "id": "3965f550",
   "metadata": {},
   "outputs": [
    {
     "data": {
      "text/plain": [
       "array([[ True,  True,  True,  True,  True,  True, False,  True,  True,\n",
       "         True,  True, False,  True,  True,  True,  True,  True,  True,\n",
       "         True,  True]])"
      ]
     },
     "execution_count": 24,
     "metadata": {},
     "output_type": "execute_result"
    }
   ],
   "source": [
    "np.not_equal(x,two_d_array)\n"
   ]
  },
  {
   "cell_type": "code",
   "execution_count": 25,
   "id": "2d3c2079",
   "metadata": {},
   "outputs": [
    {
     "data": {
      "text/plain": [
       "array([[False, False, False, False, False, False,  True, False, False,\n",
       "        False, False,  True, False, False, False, False, False, False,\n",
       "        False, False]])"
      ]
     },
     "execution_count": 25,
     "metadata": {},
     "output_type": "execute_result"
    }
   ],
   "source": [
    "np.equal(x,one_d_array)\n"
   ]
  },
  {
   "cell_type": "markdown",
   "id": "531ec421",
   "metadata": {},
   "source": [
    "# Requirement 4"
   ]
  },
  {
   "cell_type": "code",
   "execution_count": 26,
   "id": "7fa15c67",
   "metadata": {},
   "outputs": [],
   "source": [
    "#Create a two-dimensional NumPy array named two_d_array size = (4,5) with\n",
    "#any values between 11 – 34. Demonstrate the following comparison\n",
    "#operators as universal functions:\n",
    "#• <, >, <=, >=, !=, and ==\n"
   ]
  },
  {
   "cell_type": "code",
   "execution_count": 14,
   "id": "3f920ecc",
   "metadata": {},
   "outputs": [
    {
     "name": "stdout",
     "output_type": "stream",
     "text": [
      "[[20 11 11 15 16]\n",
      " [15 18 19 21 22]\n",
      " [19 16 32 31 27]\n",
      " [18 22 13 18 16]]\n"
     ]
    }
   ],
   "source": [
    "import numpy as np\n",
    "import array\n",
    "two_d_array=np.random.randint(11,34,(4,5))\n",
    "print(two_d_array)\n",
    "x=[27]"
   ]
  },
  {
   "cell_type": "code",
   "execution_count": 15,
   "id": "66bf23ab",
   "metadata": {},
   "outputs": [
    {
     "data": {
      "text/plain": [
       "array([[False, False, False, False, False],\n",
       "       [False, False, False, False, False],\n",
       "       [False, False,  True,  True, False],\n",
       "       [False, False, False, False, False]])"
      ]
     },
     "execution_count": 15,
     "metadata": {},
     "output_type": "execute_result"
    }
   ],
   "source": [
    "np.less(x,two_d_array)"
   ]
  },
  {
   "cell_type": "code",
   "execution_count": 18,
   "id": "45bd9ab4",
   "metadata": {},
   "outputs": [
    {
     "data": {
      "text/plain": [
       "array([[ True,  True,  True,  True,  True],\n",
       "       [ True,  True,  True,  True,  True],\n",
       "       [ True,  True, False, False, False],\n",
       "       [ True,  True,  True,  True,  True]])"
      ]
     },
     "execution_count": 18,
     "metadata": {},
     "output_type": "execute_result"
    }
   ],
   "source": [
    "np.greater(x,two_d_array)"
   ]
  },
  {
   "cell_type": "code",
   "execution_count": 19,
   "id": "9be4da6e",
   "metadata": {},
   "outputs": [
    {
     "data": {
      "text/plain": [
       "array([[False, False, False, False, False],\n",
       "       [False, False, False, False, False],\n",
       "       [False, False,  True,  True,  True],\n",
       "       [False, False, False, False, False]])"
      ]
     },
     "execution_count": 19,
     "metadata": {},
     "output_type": "execute_result"
    }
   ],
   "source": [
    "np.less_equal(x,two_d_array)"
   ]
  },
  {
   "cell_type": "code",
   "execution_count": 20,
   "id": "e6ed03ba",
   "metadata": {},
   "outputs": [
    {
     "data": {
      "text/plain": [
       "array([[ True,  True,  True,  True,  True],\n",
       "       [ True,  True,  True,  True,  True],\n",
       "       [ True,  True, False, False,  True],\n",
       "       [ True,  True,  True,  True,  True]])"
      ]
     },
     "execution_count": 20,
     "metadata": {},
     "output_type": "execute_result"
    }
   ],
   "source": [
    "np.greater_equal(x,two_d_array)"
   ]
  },
  {
   "cell_type": "code",
   "execution_count": 21,
   "id": "051b6210",
   "metadata": {},
   "outputs": [
    {
     "data": {
      "text/plain": [
       "array([[ True,  True,  True,  True,  True],\n",
       "       [ True,  True,  True,  True,  True],\n",
       "       [ True,  True,  True,  True, False],\n",
       "       [ True,  True,  True,  True,  True]])"
      ]
     },
     "execution_count": 21,
     "metadata": {},
     "output_type": "execute_result"
    }
   ],
   "source": [
    "np.not_equal(x,two_d_array)"
   ]
  },
  {
   "cell_type": "code",
   "execution_count": 22,
   "id": "1709a18b",
   "metadata": {},
   "outputs": [
    {
     "data": {
      "text/plain": [
       "array([[False, False, False, False, False],\n",
       "       [False, False, False, False, False],\n",
       "       [False, False, False, False,  True],\n",
       "       [False, False, False, False, False]])"
      ]
     },
     "execution_count": 22,
     "metadata": {},
     "output_type": "execute_result"
    }
   ],
   "source": [
    "np.equal(x,two_d_array)"
   ]
  },
  {
   "cell_type": "code",
   "execution_count": 23,
   "id": "0a1f41ca",
   "metadata": {},
   "outputs": [
    {
     "data": {
      "text/plain": [
       "3"
      ]
     },
     "execution_count": 23,
     "metadata": {},
     "output_type": "execute_result"
    }
   ],
   "source": [
    "#• count the values < 15\n",
    "#• sum the values > 20\n",
    "#• count the values >= 19 in each row\n",
    "#• determine if any values < 12\n",
    "#• determine if all values > 12\n",
    "#• determine if all values in each column > 14\n",
    "\n",
    "np.count_nonzero(two_d_array<15)"
   ]
  },
  {
   "cell_type": "code",
   "execution_count": 30,
   "id": "e10c067b",
   "metadata": {},
   "outputs": [
    {
     "data": {
      "text/plain": [
       "6"
      ]
     },
     "execution_count": 30,
     "metadata": {},
     "output_type": "execute_result"
    }
   ],
   "source": [
    "np.sum(two_d_array>20)"
   ]
  },
  {
   "cell_type": "code",
   "execution_count": 29,
   "id": "27e2ec99",
   "metadata": {},
   "outputs": [
    {
     "data": {
      "text/plain": [
       "array([1, 3, 4, 1])"
      ]
     },
     "execution_count": 29,
     "metadata": {},
     "output_type": "execute_result"
    }
   ],
   "source": [
    "np.count_nonzero(two_d_array>=19, axis=1)"
   ]
  },
  {
   "cell_type": "code",
   "execution_count": 31,
   "id": "679d7313",
   "metadata": {},
   "outputs": [
    {
     "data": {
      "text/plain": [
       "True"
      ]
     },
     "execution_count": 31,
     "metadata": {},
     "output_type": "execute_result"
    }
   ],
   "source": [
    "np.any(two_d_array<12)"
   ]
  },
  {
   "cell_type": "code",
   "execution_count": 33,
   "id": "a481cb15",
   "metadata": {},
   "outputs": [
    {
     "data": {
      "text/plain": [
       "False"
      ]
     },
     "execution_count": 33,
     "metadata": {},
     "output_type": "execute_result"
    }
   ],
   "source": [
    "np.all(two_d_array>12)"
   ]
  },
  {
   "cell_type": "code",
   "execution_count": 36,
   "id": "a898c745",
   "metadata": {},
   "outputs": [
    {
     "data": {
      "text/plain": [
       "array([False, False, False, False])"
      ]
     },
     "execution_count": 36,
     "metadata": {},
     "output_type": "execute_result"
    }
   ],
   "source": [
    "np.all(two_d_array<14, axis=1)"
   ]
  },
  {
   "cell_type": "markdown",
   "id": "ec892b1c",
   "metadata": {},
   "source": [
    "# Requirement 5"
   ]
  },
  {
   "cell_type": "code",
   "execution_count": 47,
   "id": "46fdc298",
   "metadata": {},
   "outputs": [
    {
     "data": {
      "text/plain": [
       "0    0.25\n",
       "1    0.50\n",
       "2    0.75\n",
       "3    1.00\n",
       "dtype: float64"
      ]
     },
     "execution_count": 47,
     "metadata": {},
     "output_type": "execute_result"
    }
   ],
   "source": [
    "#Using the inches array from Chapter 02.06, determine the number of values\n",
    "#where:\n",
    "#• 0.15 <= value <= 1.15\n",
    "#• Use ~ and | to return the same number as & above\n",
    "import numpy as np\n",
    "import pandas as pd\n",
    "\n",
    "data/seattle-weather.csv"
   ]
  },
  {
   "cell_type": "code",
   "execution_count": null,
   "id": "2ed33818",
   "metadata": {},
   "outputs": [],
   "source": []
  },
  {
   "cell_type": "code",
   "execution_count": null,
   "id": "17327eb0",
   "metadata": {},
   "outputs": [],
   "source": []
  }
 ],
 "metadata": {
  "kernelspec": {
   "display_name": "Python 3 (ipykernel)",
   "language": "python",
   "name": "python3"
  },
  "language_info": {
   "codemirror_mode": {
    "name": "ipython",
    "version": 3
   },
   "file_extension": ".py",
   "mimetype": "text/x-python",
   "name": "python",
   "nbconvert_exporter": "python",
   "pygments_lexer": "ipython3",
   "version": "3.9.12"
  }
 },
 "nbformat": 4,
 "nbformat_minor": 5
}
